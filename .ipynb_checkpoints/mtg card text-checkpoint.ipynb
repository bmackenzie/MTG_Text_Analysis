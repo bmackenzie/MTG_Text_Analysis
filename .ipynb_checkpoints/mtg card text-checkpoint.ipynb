{
 "cells": [
  {
   "cell_type": "code",
   "execution_count": 1,
   "id": "63d43a64",
   "metadata": {},
   "outputs": [],
   "source": [
    "import requests\n",
    "import pandas as pd\n",
    "import seaborn as sns\n",
    "import json\n",
    "import time\n",
    "import matplotlib.pyplot as plt\n",
    "from scipy import stats"
   ]
  },
  {
   "cell_type": "code",
   "execution_count": 2,
   "id": "a643db19",
   "metadata": {},
   "outputs": [],
   "source": [
    "with open('default-cards-20220101100237.json', encoding='utf-8') as f:\n",
    "    data = json.load(f)"
   ]
  },
  {
   "cell_type": "code",
   "execution_count": 3,
   "id": "ffbcfb94",
   "metadata": {},
   "outputs": [],
   "source": [
    "#convert mana cost string into cmc\n",
    "def get_cmc(manastring):\n",
    "    mana = manastring.replace('{', '')\n",
    "    mana = mana.replace('}', '')\n",
    "    hybrids = mana.count('/')\n",
    "    mana = len(mana) - 2 * hybrids\n",
    "\n",
    "    return mana"
   ]
  },
  {
   "cell_type": "code",
   "execution_count": 4,
   "id": "e0e8d98e",
   "metadata": {},
   "outputs": [
    {
     "name": "stdout",
     "output_type": "stream",
     "text": [
      "error at 1320\n",
      "error at 11725\n",
      "error at 15346\n",
      "error at 17142\n",
      "error at 26303\n",
      "error at 63912\n"
     ]
    }
   ],
   "source": [
    "year = []\n",
    "text = []\n",
    "mana = []\n",
    "type_line = []\n",
    "rarity = []\n",
    "border_color = []\n",
    "standard = []\n",
    "modern = []\n",
    "pioneer = []\n",
    "legacy = []\n",
    "vintage = []\n",
    "colors= []\n",
    "name = []\n",
    "\n",
    "\n",
    "#loop through cards, append relevant data to lists\n",
    "for i in range(0, len(data)):\n",
    "    card = data[i]\n",
    "    #remove bonus and special cards\n",
    "    if card['rarity'] == 'bonus' or card['rarity'] == 'special':\n",
    "        continue\n",
    "    try:        \n",
    "        card_year =card['released_at'][0:4]\n",
    "        card_text =len(card['oracle_text'])\n",
    "        card_mana =card['cmc']\n",
    "        card_type_line =card['type_line']\n",
    "        #remove tokens\n",
    "        if 'Token' in card_type_line:\n",
    "            continue\n",
    "        card_rarity = card['rarity']\n",
    "        card_border_color =card['border_color']\n",
    "        card_color = ''.join(card['colors'])\n",
    "        card_name = card['name']\n",
    "\n",
    "        standard.append(True) if card['legalities']['standard'] == 'legal' else standard.append(False)\n",
    "        modern.append(True) if card['legalities']['standard'] == 'legal' else modern.append(False)       \n",
    "        pioneer.append(True) if card['legalities']['standard'] == 'legal' else pioneer.append(False)       \n",
    "        legacy.append(True) if card['legalities']['standard'] == 'legal' else legacy.append(False)     \n",
    "        vintage.append(True) if card['legalities']['standard'] == 'legal' else vintage.append(False)\n",
    "        \n",
    "        year.append(card_year)\n",
    "\n",
    "        text.append(card_text)\n",
    "\n",
    "        mana.append(card_mana)\n",
    "\n",
    "        type_line.append(card_type_line)\n",
    "\n",
    "        rarity.append(card_rarity)\n",
    "\n",
    "        border_color.append(card_border_color)\n",
    "        \n",
    "        colors.append(card_color)\n",
    "        \n",
    "        name.append(card_name)\n",
    "        \n",
    "    except:\n",
    "        try:\n",
    "            card_text = 0\n",
    "            card_color = ''\n",
    "            card_Mana = 0\n",
    "            for face in card['card_faces']:\n",
    "                card_year =card['released_at'][0:4]\n",
    "                card_text +=len(face['oracle_text'])\n",
    "                card_mana += get_cmc(face['mana_cost'])\n",
    "                card_type_line =face['type_line']\n",
    "                card_rarity = card['rarity']\n",
    "                card_border_color =card['border_color']\n",
    "                card_name = card['name']\n",
    "                try:\n",
    "                    card_color += ''.join(face['colors'])\n",
    "                except:\n",
    "                    card_color= ''.join(card['colors'])\n",
    "            \n",
    "            standard.append(True) if card['legalities']['standard'] == 'legal' else standard.append(False)\n",
    "            modern.append(True) if card['legalities']['standard'] == 'legal' else modern.append(False)       \n",
    "            pioneer.append(True) if card['legalities']['standard'] == 'legal' else pioneer.append(False)       \n",
    "            legacy.append(True) if card['legalities']['standard'] == 'legal' else legacy.append(False)     \n",
    "            vintage.append(True) if card['legalities']['standard'] == 'legal' else vintage.append(False)\n",
    "            year.append(card_year)\n",
    "\n",
    "            text.append(card_text)\n",
    "\n",
    "            mana.append(card_mana)\n",
    "\n",
    "            type_line.append(card_type_line)\n",
    "\n",
    "            rarity.append(card_rarity)\n",
    "\n",
    "            border_color.append(card_border_color)\n",
    "\n",
    "            colors.append(card_color)\n",
    "            \n",
    "            name.append(card_name)\n",
    "        except:\n",
    "            print(f'error at {i}')"
   ]
  },
  {
   "cell_type": "code",
   "execution_count": 5,
   "id": "1f1b781f",
   "metadata": {},
   "outputs": [],
   "source": [
    "df = pd.DataFrame({'Year':year, 'Text':text, 'CMC':mana, 'Type':type_line, 'Rarity':rarity, 'Border Color':border_color, 'Color':colors, 'Standard':standard, 'Modern':modern,'Pioneer':pioneer, 'Legacy':legacy, 'Vintage':vintage, 'Name':name})\n",
    "#Remove 0 text lands and most minigame cards\n",
    "df.drop(df[df['Text'] == 0.0].index, inplace = True)\n",
    "df.drop(df[df['Text'] > 700].index, inplace = True)"
   ]
  },
  {
   "cell_type": "code",
   "execution_count": 6,
   "id": "66a2c0e3",
   "metadata": {},
   "outputs": [
    {
     "data": {
      "image/png": "[encoded data removed]",
      "text/plain": [
       "<Figure size 1080x864 with 1 Axes>"
      ]
     },
     "metadata": {},
     "output_type": "display_data"
    },
    {
     "data": {
      "text/plain": [
       "<Figure size 432x288 with 0 Axes>"
      ]
     },
     "metadata": {},
     "output_type": "display_data"
    }
   ],
   "source": [
    "yeardf = df.groupby('Year').median()\n",
    "err = []\n",
    "\n",
    "for year in df['Year'].unique():\n",
    "    err.append(stats.sem(df[df['Year'] == year]['Text']))\n",
    "\n",
    "yeardf['err'] = err\n",
    "\n",
    "plt.style.use('ggplot')\n",
    "plt.rc('xtick', labelsize=15) \n",
    "plt.rc('ytick', labelsize=15)\n",
    "\n",
    "fig, ax = plt.subplots()\n",
    "fig.set_size_inches([15, 12])\n",
    "ax.errorbar(yeardf.index, yeardf['Text'], yerr=yeardf['err'])\n",
    "ax.set_title(\"Median Characters In a Card's Oracle Text By Year\", fontsize = 20)\n",
    "ax.set_ylabel('Characters', fontsize = 16)\n",
    "ax.set_xlabel('Year', fontsize= 16)\n",
    "ax.set_ylim(0,190)\n",
    "\n",
    "\n",
    "\n",
    "plt.xticks(rotation=90)\n",
    "\n",
    "plt.show()\n",
    "plt.savefig('Text by Year.png')"
   ]
  },
  {
   "cell_type": "code",
   "execution_count": 7,
   "id": "63daccb8",
   "metadata": {},
   "outputs": [
    {
     "ename": "SyntaxError",
     "evalue": "EOL while scanning string literal (Temp/ipykernel_15004/732360555.py, line 27)",
     "output_type": "error",
     "traceback": [
      "\u001b[1;36m  File \u001b[1;32m\"C:\\Users\\Brian\\AppData\\Local\\Temp/ipykernel_15004/732360555.py\"\u001b[1;36m, line \u001b[1;32m27\u001b[0m\n\u001b[1;33m    plt.savefig('Text by CMC.png)\u001b[0m\n\u001b[1;37m                                 ^\u001b[0m\n\u001b[1;31mSyntaxError\u001b[0m\u001b[1;31m:\u001b[0m EOL while scanning string literal\n"
     ]
    }
   ],
   "source": [
    "manadf = df.groupby('CMC').median()\n",
    "err = []\n",
    "\n",
    "for cost in df['CMC'].unique():\n",
    "    err.append(stats.sem(df[df['CMC'] == cost]['Text']))\n",
    "\n",
    "manadf['err'] = err\n",
    "\n",
    "manadf= manadf.head(15)\n",
    "\n",
    "plt.style.use('ggplot')\n",
    "plt.rc('xtick', labelsize=15) \n",
    "plt.rc('ytick', labelsize=15)\n",
    "\n",
    "fig, ax = plt.subplots()\n",
    "fig.set_size_inches([15, 12])\n",
    "ax.errorbar(manadf.index, manadf['Text'], yerr=manadf['err'])\n",
    "ax.set_title(\"Median Characters In a Card's Oracle Text By CMC\", fontsize = 20)\n",
    "ax.set_ylabel('Characters', fontsize = 16)\n",
    "ax.set_xlabel('CMC', fontsize= 16)\n",
    "\n",
    "\n",
    "\n",
    "plt.xticks(rotation=90)\n",
    "\n",
    "plt.show()\n",
    "plt.savefig('Text by CMC.png)"
   ]
  },
  {
   "cell_type": "code",
   "execution_count": null,
   "id": "025e896c",
   "metadata": {},
   "outputs": [],
   "source": [
    "raritydf = df.drop(df[df['Rarity'] == 'bonus' ].index)\n",
    "raritydf.drop(df[df['Rarity'] == 'special' ].index, inplace=True)\n",
    "raritydf = raritydf.groupby('Rarity').median()\n",
    "raritydf = raritydf.reindex(['common', 'uncommon', 'rare', 'mythic'])\n",
    "\n",
    "fig, ax = plt.subplots()\n",
    "ax.bar(['Common', 'Uncommon', 'Rare', 'Mythic'], raritydf['Text'], color = ['black', 'silver', 'gold', 'red'])\n",
    "fig.set_size_inches([15, 12])\n",
    "ax.set_title(\"Median Characters in a Card's Oracle Text by Rarity\", fontsize = 20)\n",
    "ax.set_xlabel('Rarity', fontsize=16)\n",
    "ax.set_ylabel('Characters', fontsize=16)\n",
    "for i in range(0, 4):\n",
    "    plt.text(['Common', 'Uncommon', 'Rare', 'Mythic'][i], raritydf['Text'][i]  + 5, raritydf['Text'][i], ha='center', size = 'large')\n",
    "plt.show()\n",
    "plt.savefig('Text by Rarity.png')"
   ]
  },
  {
   "cell_type": "code",
   "execution_count": null,
   "id": "41766a4e",
   "metadata": {},
   "outputs": [],
   "source": [
    "colordf = df.groupby('Color').median()\n",
    "colordf.reset_index(inplace = True)\n",
    "whitedf = colordf[colordf['Color'].str.contains('W')]\n",
    "bluedf = colordf[colordf['Color'].str.contains('U')]\n",
    "blackdf = colordf[colordf['Color'].str.contains('B')]\n",
    "reddf = colordf[colordf['Color'].str.contains('R')]\n",
    "greendf = colordf[colordf['Color'].str.contains('G')]\n",
    "colorlessdf = colordf[colordf['Color'] == '']\n"
   ]
  },
  {
   "cell_type": "code",
   "execution_count": null,
   "id": "f9d1677a",
   "metadata": {},
   "outputs": [],
   "source": [
    "x = ['Colorless', 'White', 'Green', 'Black', 'Blue', 'Red']\n",
    "y = [colorlessdf['Text'].median(), whitedf['Text'].median(), greendf['Text'].median(), blackdf['Text'].median(),bluedf['Text'].median(), reddf['Text'].median()]\n",
    "\n",
    "fig, ax = plt.subplots()\n",
    "ax.bar(x, y, color =['grey', 'white', 'green', 'black', 'blue', 'red'])\n",
    "fig.set_size_inches([15, 12])\n",
    "ax.set_title(\"Median Characters in a Card's Oracle Text by Color\", fontsize = 20)\n",
    "ax.set_xlabel('Color', fontsize = 16)\n",
    "ax.set_ylabel('Color', fontsize = 16)\n",
    "for i in range(0, len(y)):\n",
    "    plt.text(x[i], y[i] + 5, y[i], ha='center', size = 'large')\n",
    "plt.savefig('Text by Year.png')\n"
   ]
  },
  {
   "cell_type": "code",
   "execution_count": null,
   "id": "1f836363",
   "metadata": {},
   "outputs": [],
   "source": [
    "#creature type, fill each column, add as cols to df, and use those to make the type charts\n",
    "creature = []\n",
    "artifact = []\n",
    "sorcery = []\n",
    "instant = []\n",
    "enchantment = []\n",
    "planeswalker = []\n",
    "legend = []\n",
    "\n",
    "for card in df['Type']:\n",
    "    if 'Creature' in card:\n",
    "        creature.append(True)\n",
    "    else:\n",
    "        creature.append(False)\n",
    "        \n",
    "    if 'Artifact' in card:\n",
    "        artifact.append(True)\n",
    "    else:\n",
    "        artifact.append(False)\n",
    "        \n",
    "    if 'Sorcery' in card:\n",
    "        sorcery.append(True)\n",
    "    else:\n",
    "        sorcery.append(False)\n",
    "        \n",
    "    if 'Instant' in card:\n",
    "        instant.append(True)\n",
    "    else:\n",
    "        instant.append(False)\n",
    "        \n",
    "    if 'Enchantment' in card:\n",
    "        enchantment.append(True)\n",
    "    else:\n",
    "        enchantment.append(False)\n",
    "        \n",
    "    if 'Planeswalker' in card:\n",
    "        planeswalker.append(True)\n",
    "    else:\n",
    "        planeswalker.append(False)\n",
    "        \n",
    "    if 'Legend' in card:\n",
    "        legend.append(True)\n",
    "    else:\n",
    "        legend.append(False)        "
   ]
  },
  {
   "cell_type": "code",
   "execution_count": null,
   "id": "b4384f08",
   "metadata": {},
   "outputs": [],
   "source": [
    "df['Creature'] = creature\n",
    "df['Artifact'] = artifact\n",
    "df['Sorcery'] = sorcery\n",
    "df['Instant'] = instant\n",
    "df['Enchantment'] = enchantment\n",
    "df['Planeswalker'] = planeswalker\n",
    "df['Legend'] = legend\n",
    "df"
   ]
  },
  {
   "cell_type": "code",
   "execution_count": null,
   "id": "8d91de2c",
   "metadata": {},
   "outputs": [],
   "source": [
    "creaturedf = df[df['Creature'] == True]\n",
    "artifactdf = df[df['Artifact'] == True]\n",
    "sorcerydf = df[df['Sorcery'] == True]\n",
    "instantdf = df[df['Instant'] == True]\n",
    "enchantmentdf = df[df['Enchantment'] == True]\n",
    "planeswalkerdf = df[df['Planeswalker'] == True]\n",
    "legenddf = df[df['Legend'] == True]\n",
    "\n",
    "fig, ax = plt.subplots()\n",
    "x= ['Instant', 'Sorcery', 'Artifact', 'Creature',  'Enchantment', 'Legendary', 'Planeswalker']\n",
    "y = [instantdf['Text'].median(), sorcerydf['Text'].median(), artifactdf['Text'].median(), creaturedf['Text'].median(), enchantmentdf['Text'].median(), legenddf['Text'].median(), planeswalkerdf['Text'].median()]\n",
    "ax.bar(x, y, color = ['blue', 'red', 'brown', 'green', 'white', 'black', 'purple'])\n",
    "plt.xticks(rotation = 90)\n",
    "fig.set_size_inches([15, 12])\n",
    "ax.set_title(\"Median Characters in a Card's Oracle Text by Card Type\", fontsize = 20)\n",
    "ax.set_xlabel('Type', fontsize=16)\n",
    "ax.set_ylabel('Characters', fontsize=16)\n",
    "for i in range(0, len(y)):\n",
    "    plt.text(x[i], y[i] + 5, y[i], ha='center', size = 'large')\n",
    "plt.savefig('Text by Card Type.png')"
   ]
  },
  {
   "cell_type": "code",
   "execution_count": null,
   "id": "5a14b058",
   "metadata": {},
   "outputs": [],
   "source": [
    "borderdf = df.groupby('Border Color').median()\n",
    "borderdf = borderdf.drop(index = 'borderless')\n",
    "borderdf = borderdf.reindex(['white', 'gold', 'black', 'silver'])\n",
    "\n",
    "fig, ax = plt.subplots()\n",
    "ax.bar(borderdf.index, borderdf['Text'], color = ['white','gold','black','silver'])\n",
    "ax.set_title(\"Median Characters in a Card's Oracle Text by Border Color\", fontsize = 20)\n",
    "ax.set_xlabel('Border Color', fontsize=16)\n",
    "ax.set_ylabel('Characters', fontsize=16)\n",
    "fig.set_size_inches([15, 12])\n",
    "for i in range(0, len(borderdf.index)):\n",
    "    plt.text(borderdf.index[i], borderdf['Text'][i] + 3, borderdf['Text'][i], ha='center', size = 'large')\n",
    "plt.savefig('Text by Border Color.png')"
   ]
  },
  {
   "cell_type": "code",
   "execution_count": null,
   "id": "0738f2c7",
   "metadata": {},
   "outputs": [],
   "source": []
  },
  {
   "cell_type": "code",
   "execution_count": null,
   "id": "2b3a1f64",
   "metadata": {},
   "outputs": [],
   "source": []
  }
 ],
 "metadata": {
  "kernelspec": {
   "display_name": "Python 3 (ipykernel)",
   "language": "python",
   "name": "python3"
  },
  "language_info": {
   "codemirror_mode": {
    "name": "ipython",
    "version": 3
   },
   "file_extension": ".py",
   "mimetype": "text/x-python",
   "name": "python",
   "nbconvert_exporter": "python",
   "pygments_lexer": "ipython3",
   "version": "3.9.8"
  }
 },
 "nbformat": 4,
 "nbformat_minor": 5
}
